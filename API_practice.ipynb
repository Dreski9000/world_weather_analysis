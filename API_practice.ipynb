{
 "cells": [
  {
   "cell_type": "code",
   "execution_count": 1,
   "id": "c053771b",
   "metadata": {},
   "outputs": [],
   "source": [
    "# Create a practice set of random latitude and longitude combinations.\n",
    "x = [25.12903645, 25.92017388, 26.62509167, -59.98969384, 37.30571269]\n",
    "y = [-67.59741259, 11.09532135, 74.84233102, -76.89176677, -61.13376282]\n",
    "coordinates = zip(x, y)"
   ]
  },
  {
   "cell_type": "code",
   "execution_count": 2,
   "id": "8d4cdf2f",
   "metadata": {},
   "outputs": [
    {
     "data": {
      "text/plain": [
       "<zip at 0x7fd9784c4b00>"
      ]
     },
     "execution_count": 2,
     "metadata": {},
     "output_type": "execute_result"
    }
   ],
   "source": [
    "coordinates"
   ]
  },
  {
   "cell_type": "code",
   "execution_count": 3,
   "id": "ee06ac07",
   "metadata": {},
   "outputs": [],
   "source": [
    "coordinates = list(coordinates)"
   ]
  },
  {
   "cell_type": "code",
   "execution_count": 4,
   "id": "6c96111f",
   "metadata": {},
   "outputs": [
    {
     "data": {
      "text/plain": [
       "[(25.12903645, -67.59741259),\n",
       " (25.92017388, 11.09532135),\n",
       " (26.62509167, 74.84233102),\n",
       " (-59.98969384, -76.89176677),\n",
       " (37.30571269, -61.13376282)]"
      ]
     },
     "execution_count": 4,
     "metadata": {},
     "output_type": "execute_result"
    }
   ],
   "source": [
    "coordinates"
   ]
  },
  {
   "cell_type": "code",
   "execution_count": 5,
   "id": "435ff273",
   "metadata": {},
   "outputs": [],
   "source": [
    "# Use the citipy module to determine city based on latitude and longtitude\n",
    "from citipy import citipy"
   ]
  },
  {
   "cell_type": "code",
   "execution_count": 6,
   "id": "a62d6c4b",
   "metadata": {},
   "outputs": [
    {
     "name": "stdout",
     "output_type": "stream",
     "text": [
      "cockburn town tc\n",
      "gat ly\n",
      "parvatsar in\n",
      "punta arenas cl\n",
      "saint george bm\n"
     ]
    }
   ],
   "source": [
    "# Use the tuple() function to display the latitude and longtitude combination\n",
    "for coordinate in coordinates:\n",
    "    print(citipy.nearest_city(coordinate[0], coordinate[1]).city_name,\n",
    "        citipy.nearest_city(coordinate[0], coordinate[1]).country_code)"
   ]
  },
  {
   "cell_type": "code",
   "execution_count": 7,
   "id": "056d6965",
   "metadata": {},
   "outputs": [],
   "source": [
    "#print(citipy.nearest_city(coordinates[0][0], coordinates[0][1]))"
   ]
  },
  {
   "cell_type": "code",
   "execution_count": 8,
   "id": "7346e322",
   "metadata": {},
   "outputs": [
    {
     "data": {
      "text/plain": [
       "(25.12903645, -67.59741259)"
      ]
     },
     "execution_count": 8,
     "metadata": {},
     "output_type": "execute_result"
    }
   ],
   "source": [
    "coordinates[0]"
   ]
  },
  {
   "cell_type": "code",
   "execution_count": 9,
   "id": "2fe43a89",
   "metadata": {},
   "outputs": [
    {
     "data": {
      "text/plain": [
       "[(25.12903645, -67.59741259),\n",
       " (25.92017388, 11.09532135),\n",
       " (26.62509167, 74.84233102),\n",
       " (-59.98969384, -76.89176677),\n",
       " (37.30571269, -61.13376282)]"
      ]
     },
     "execution_count": 9,
     "metadata": {},
     "output_type": "execute_result"
    }
   ],
   "source": [
    "coordinates"
   ]
  },
  {
   "cell_type": "code",
   "execution_count": 10,
   "id": "75d05d1b",
   "metadata": {},
   "outputs": [],
   "source": [
    "# Import the requests library\n",
    "import requests\n",
    "\n",
    "# Import the API key.\n",
    "from config import weather_api_key"
   ]
  },
  {
   "cell_type": "code",
   "execution_count": 12,
   "id": "1458b03d",
   "metadata": {
    "scrolled": true
   },
   "outputs": [],
   "source": [
    "# Starting URL for Weather Map API Call.\n",
    "url = \"http://api.openweathermap.org/data/2.5/weather?units=Imperial&APPID=\" + weather_api_key"
   ]
  },
  {
   "cell_type": "code",
   "execution_count": 16,
   "id": "b67da39b",
   "metadata": {},
   "outputs": [],
   "source": [
    "# Create an endpoint URL for a city.\n",
    "city_url = url + \"&q=\" + \"Boston\"\n",
    "#print(city_url)"
   ]
  },
  {
   "cell_type": "code",
   "execution_count": 21,
   "id": "22def601",
   "metadata": {},
   "outputs": [
    {
     "data": {
      "text/plain": [
       "<Response [200]>"
      ]
     },
     "execution_count": 21,
     "metadata": {},
     "output_type": "execute_result"
    }
   ],
   "source": [
    "weather_response = requests.get(city_url)\n",
    "weather_response"
   ]
  },
  {
   "cell_type": "code",
   "execution_count": 19,
   "id": "262c39d5",
   "metadata": {},
   "outputs": [],
   "source": [
    "weather_json = weather_response.json()"
   ]
  },
  {
   "cell_type": "code",
   "execution_count": 20,
   "id": "1746c796",
   "metadata": {},
   "outputs": [
    {
     "data": {
      "text/plain": [
       "{'coord': {'lon': -71.0598, 'lat': 42.3584},\n",
       " 'weather': [{'id': 600,\n",
       "   'main': 'Snow',\n",
       "   'description': 'light snow',\n",
       "   'icon': '13n'},\n",
       "  {'id': 701, 'main': 'Mist', 'description': 'mist', 'icon': '50n'}],\n",
       " 'base': 'stations',\n",
       " 'main': {'temp': 23.54,\n",
       "  'feels_like': 17.13,\n",
       "  'temp_min': 19.29,\n",
       "  'temp_max': 28.36,\n",
       "  'pressure': 1016,\n",
       "  'humidity': 90},\n",
       " 'visibility': 8047,\n",
       " 'wind': {'speed': 5.01, 'deg': 44, 'gust': 11.99},\n",
       " 'snow': {'1h': 0.31},\n",
       " 'clouds': {'all': 100},\n",
       " 'dt': 1644025709,\n",
       " 'sys': {'type': 2,\n",
       "  'id': 2013408,\n",
       "  'country': 'US',\n",
       "  'sunrise': 1643975680,\n",
       "  'sunset': 1644012098},\n",
       " 'timezone': -18000,\n",
       " 'id': 4930956,\n",
       " 'name': 'Boston',\n",
       " 'cod': 200}"
      ]
     },
     "execution_count": 20,
     "metadata": {},
     "output_type": "execute_result"
    }
   ],
   "source": [
    "weather_json"
   ]
  },
  {
   "cell_type": "code",
   "execution_count": 28,
   "id": "bbda53a3",
   "metadata": {},
   "outputs": [
    {
     "name": "stdout",
     "output_type": "stream",
     "text": [
      "City Weather found.\n"
     ]
    }
   ],
   "source": [
    "# Create an endpoint URL for a city.\n",
    "city_url = url + \"&q=\" + \"Boston\"\n",
    "city_weather = requests.get(city_url)\n",
    "if city_weather.status_code == 200:\n",
    "    print(f\"City Weather found.\")\n",
    "else:\n",
    "    print(f\"City weather not found.\")"
   ]
  },
  {
   "cell_type": "code",
   "execution_count": 24,
   "id": "c7bc3277",
   "metadata": {},
   "outputs": [
    {
     "data": {
      "text/plain": [
       "'{\"coord\":{\"lon\":-71.0598,\"lat\":42.3584},\"weather\":[{\"id\":601,\"main\":\"Snow\",\"description\":\"snow\",\"icon\":\"13n\"}],\"base\":\"stations\",\"main\":{\"temp\":23.18,\"feels_like\":17.89,\"temp_min\":19.29,\"temp_max\":28.24,\"pressure\":1015,\"humidity\":90},\"visibility\":10000,\"wind\":{\"speed\":4,\"deg\":5,\"gust\":11.01},\"snow\":{\"1h\":4.32},\"clouds\":{\"all\":100},\"dt\":1644027243,\"sys\":{\"type\":2,\"id\":2013408,\"country\":\"US\",\"sunrise\":1643975680,\"sunset\":1644012098},\"timezone\":-18000,\"id\":4930956,\"name\":\"Boston\",\"cod\":200}'"
      ]
     },
     "execution_count": 24,
     "metadata": {},
     "output_type": "execute_result"
    }
   ],
   "source": [
    "# Get the text of the 'Get' request\n",
    "city_weather.text"
   ]
  },
  {
   "cell_type": "code",
   "execution_count": 30,
   "id": "dabeded2",
   "metadata": {},
   "outputs": [],
   "source": [
    "# Get the JSON text of the 'Get' request\n",
    "boston_data = city_weather.json()"
   ]
  },
  {
   "cell_type": "code",
   "execution_count": 31,
   "id": "8dc124c2",
   "metadata": {},
   "outputs": [
    {
     "data": {
      "text/plain": [
       "'US'"
      ]
     },
     "execution_count": 31,
     "metadata": {},
     "output_type": "execute_result"
    }
   ],
   "source": [
    "boston_data[\"sys\"][\"country\"]"
   ]
  },
  {
   "cell_type": "code",
   "execution_count": 32,
   "id": "ba9419af",
   "metadata": {},
   "outputs": [
    {
     "data": {
      "text/plain": [
       "{'coord': {'lon': -71.0598, 'lat': 42.3584},\n",
       " 'weather': [{'id': 601,\n",
       "   'main': 'Snow',\n",
       "   'description': 'snow',\n",
       "   'icon': '13n'}],\n",
       " 'base': 'stations',\n",
       " 'main': {'temp': 23,\n",
       "  'feels_like': 17.67,\n",
       "  'temp_min': 19.29,\n",
       "  'temp_max': 27.82,\n",
       "  'pressure': 1015,\n",
       "  'humidity': 90},\n",
       " 'visibility': 10000,\n",
       " 'wind': {'speed': 4, 'deg': 360, 'gust': 10},\n",
       " 'snow': {'1h': 4.32},\n",
       " 'clouds': {'all': 100},\n",
       " 'dt': 1644027696,\n",
       " 'sys': {'type': 2,\n",
       "  'id': 2013408,\n",
       "  'country': 'US',\n",
       "  'sunrise': 1643975680,\n",
       "  'sunset': 1644012098},\n",
       " 'timezone': -18000,\n",
       " 'id': 4930956,\n",
       " 'name': 'Boston',\n",
       " 'cod': 200}"
      ]
     },
     "execution_count": 32,
     "metadata": {},
     "output_type": "execute_result"
    }
   ],
   "source": [
    "boston_data"
   ]
  },
  {
   "cell_type": "code",
   "execution_count": 33,
   "id": "7b59c0e2",
   "metadata": {},
   "outputs": [
    {
     "name": "stdout",
     "output_type": "stream",
     "text": [
      "42.3584 -71.0598 27.82 90 100 4\n"
     ]
    }
   ],
   "source": [
    "lat = boston_data[\"coord\"][\"lat\"]\n",
    "lng = boston_data[\"coord\"][\"lon\"]\n",
    "max_temp = boston_data[\"main\"][\"temp_max\"]\n",
    "humidity = boston_data[\"main\"][\"humidity\"]\n",
    "clouds = boston_data[\"clouds\"][\"all\"]\n",
    "wind = boston_data[\"wind\"][\"speed\"]\n",
    "print(lat, lng, max_temp, humidity, clouds, wind)"
   ]
  },
  {
   "cell_type": "code",
   "execution_count": 35,
   "id": "bc6ff95c",
   "metadata": {},
   "outputs": [
    {
     "data": {
      "text/plain": [
       "'2022-02-05 02:21:36'"
      ]
     },
     "execution_count": 35,
     "metadata": {},
     "output_type": "execute_result"
    }
   ],
   "source": [
    "# Import the datetime module from the datetime library.\n",
    "from datetime import datetime\n",
    "# Get the date from the JSON file\n",
    "date = boston_data[\"dt\"]\n",
    "# Convert the UTC date to a date format with year, month, day, hours, minutes and seconds\n",
    "datetime.utcfromtimestamp(date).strftime('%Y-%m-%d %H:%M:%S')"
   ]
  },
  {
   "cell_type": "code",
   "execution_count": null,
   "id": "9eb81db0",
   "metadata": {},
   "outputs": [],
   "source": []
  }
 ],
 "metadata": {
  "kernelspec": {
   "display_name": "PythonData",
   "language": "python",
   "name": "pythondata"
  },
  "language_info": {
   "codemirror_mode": {
    "name": "ipython",
    "version": 3
   },
   "file_extension": ".py",
   "mimetype": "text/x-python",
   "name": "python",
   "nbconvert_exporter": "python",
   "pygments_lexer": "ipython3",
   "version": "3.9.7"
  }
 },
 "nbformat": 4,
 "nbformat_minor": 5
}
