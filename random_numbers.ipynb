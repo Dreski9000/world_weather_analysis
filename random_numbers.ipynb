{
 "cells": [
  {
   "cell_type": "code",
   "execution_count": 1,
   "id": "0ca4d394",
   "metadata": {},
   "outputs": [],
   "source": [
    "# Import the random module.\n",
    "import random"
   ]
  },
  {
   "cell_type": "code",
   "execution_count": 2,
   "id": "d1d115ca",
   "metadata": {},
   "outputs": [
    {
     "data": {
      "text/plain": [
       "0.06745315543422459"
      ]
     },
     "execution_count": 2,
     "metadata": {},
     "output_type": "execute_result"
    }
   ],
   "source": [
    "# outputs a float between 0 and 1.0\n",
    "random.random()"
   ]
  },
  {
   "cell_type": "code",
   "execution_count": 8,
   "id": "21050450",
   "metadata": {},
   "outputs": [
    {
     "data": {
      "text/plain": [
       "-49"
      ]
     },
     "execution_count": 8,
     "metadata": {},
     "output_type": "execute_result"
    }
   ],
   "source": [
    "# outputs a random integer within specified range\n",
    "# lower and upward bounds are inclusive\n",
    "random.randint(-90, 90)"
   ]
  },
  {
   "cell_type": "code",
   "execution_count": 9,
   "id": "1d4a1bd7",
   "metadata": {},
   "outputs": [
    {
     "data": {
      "text/plain": [
       "-1"
      ]
     },
     "execution_count": 9,
     "metadata": {},
     "output_type": "execute_result"
    }
   ],
   "source": [
    "# returns a whole interger within specified interval\n",
    "# step is the difference between each number in sequence\n",
    "random.randrange(-9, 0, 2)"
   ]
  },
  {
   "cell_type": "code",
   "execution_count": 10,
   "id": "3a113342",
   "metadata": {},
   "outputs": [
    {
     "data": {
      "text/plain": [
       "58.28351309420475"
      ]
     },
     "execution_count": 10,
     "metadata": {},
     "output_type": "execute_result"
    }
   ],
   "source": [
    "# returns a float within specified range\n",
    "random.uniform(-90, 90)"
   ]
  },
  {
   "cell_type": "code",
   "execution_count": 13,
   "id": "d29b845c",
   "metadata": {},
   "outputs": [],
   "source": [
    "# Generate a list of 10 random lattitudes\n",
    "x = 1\n",
    "latitudes = []\n",
    "while x < 11:\n",
    "    random_lat = random.randint(-90, 89) + random.random()\n",
    "    latitudes.append(random_lat)\n",
    "    x += 1"
   ]
  },
  {
   "cell_type": "code",
   "execution_count": 14,
   "id": "9f5051ab",
   "metadata": {},
   "outputs": [
    {
     "data": {
      "text/plain": [
       "[13.188907774938317,\n",
       " -88.10154197591179,\n",
       " -10.258955150257359,\n",
       " 88.49922983415887,\n",
       " 47.32702160216216,\n",
       " -56.034212910007106,\n",
       " 21.35053357228865,\n",
       " 23.71567077464697,\n",
       " 37.02037553525206,\n",
       " 37.01102862203192]"
      ]
     },
     "execution_count": 14,
     "metadata": {},
     "output_type": "execute_result"
    }
   ],
   "source": [
    "latitudes"
   ]
  },
  {
   "cell_type": "code",
   "execution_count": 15,
   "id": "d39d1317",
   "metadata": {},
   "outputs": [],
   "source": [
    "# Import the NumPy module.\n",
    "import numpy as np"
   ]
  },
  {
   "cell_type": "code",
   "execution_count": 17,
   "id": "75cf76bf",
   "metadata": {},
   "outputs": [
    {
     "data": {
      "text/plain": [
       "array([-76.60048864,  48.48430749,   2.22246317, -37.68274204,\n",
       "       -36.75037995, -18.38729336, -60.48199776, -41.45219007,\n",
       "       -27.77623572, -76.23019482, -87.44598982,  18.45786307,\n",
       "        58.93872506,  23.9628771 ,  48.00408399,  57.54759107,\n",
       "        32.31209348,  75.72420048, -84.22813954, -84.15997598,\n",
       "       -21.47159305, -41.46641894,  -9.95528214,   5.88035515,\n",
       "       -27.61414144,  63.48140407, -13.96589814,  -3.68728202,\n",
       "       -13.58500427,  30.33884535, -10.96923706, -11.01378566,\n",
       "        10.6219001 ,  49.01517021, -59.62592113,  36.20416038,\n",
       "       -10.93794486,  65.11754869, -11.75769604,  14.28657473,\n",
       "       -36.60575399, -80.93644766,  35.72590323,  24.31862975,\n",
       "       -85.08853232,   6.51675601,  -0.32088069, -52.76929918,\n",
       "       -81.51710757,  65.68147923])"
      ]
     },
     "execution_count": 17,
     "metadata": {},
     "output_type": "execute_result"
    }
   ],
   "source": [
    "np.random.uniform(-90.000, 90.000, size=50)"
   ]
  },
  {
   "cell_type": "code",
   "execution_count": 18,
   "id": "228e72be",
   "metadata": {},
   "outputs": [],
   "source": [
    "# Import timeit\n",
    "import timeit"
   ]
  },
  {
   "cell_type": "code",
   "execution_count": 19,
   "id": "2e2c4f6c",
   "metadata": {},
   "outputs": [
    {
     "name": "stdout",
     "output_type": "stream",
     "text": [
      "18.3 µs ± 92.3 ns per loop (mean ± std. dev. of 7 runs, 100000 loops each)\n"
     ]
    }
   ],
   "source": [
    "%timeit np.random.uniform(-90.000, 90.000, size=1500)"
   ]
  },
  {
   "cell_type": "code",
   "execution_count": 20,
   "id": "0bebf59f",
   "metadata": {},
   "outputs": [
    {
     "name": "stdout",
     "output_type": "stream",
     "text": [
      "1.21 ms ± 5.91 µs per loop (mean ± std. dev. of 7 runs, 1000 loops each)\n"
     ]
    }
   ],
   "source": [
    "def latitudes(size):\n",
    "    latitudes = []\n",
    "    x = 0\n",
    "    while x < (size):\n",
    "        random_lat = random.randint(-90, 90) + random.random()\n",
    "        latitudes.append(random_lat)\n",
    "        x += 1\n",
    "    return latitudes\n",
    "# Call the function with 1500.\n",
    "%timeit latitudes(1500)"
   ]
  },
  {
   "cell_type": "code",
   "execution_count": null,
   "id": "ad15c359",
   "metadata": {},
   "outputs": [],
   "source": []
  }
 ],
 "metadata": {
  "kernelspec": {
   "display_name": "PythonData",
   "language": "python",
   "name": "pythondata"
  },
  "language_info": {
   "codemirror_mode": {
    "name": "ipython",
    "version": 3
   },
   "file_extension": ".py",
   "mimetype": "text/x-python",
   "name": "python",
   "nbconvert_exporter": "python",
   "pygments_lexer": "ipython3",
   "version": "3.9.7"
  }
 },
 "nbformat": 4,
 "nbformat_minor": 5
}
